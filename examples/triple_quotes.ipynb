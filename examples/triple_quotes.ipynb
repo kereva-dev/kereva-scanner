{
 "cells": [
  {
   "cell_type": "code",
   "execution_count": 1,
   "id": "59ad4f29-9b08-41cd-9a3e-265f56c6d3ec",
   "metadata": {},
   "outputs": [],
   "source": [
    "test = \"\"\"One upon a \n",
    "time there was a \n",
    "castle\"\"\""
   ]
  },
  {
   "cell_type": "code",
   "execution_count": 2,
   "id": "958bcec3-1eb6-4585-85e5-60cd4dd2a768",
   "metadata": {},
   "outputs": [],
   "source": [
    "test2 = \"\"\"The kings favorite operation was modulus\n",
    "% he'd say all day lone\n",
    "\"\"\""
   ]
  },
  {
   "cell_type": "code",
   "execution_count": 3,
   "id": "faf94238-198e-44f8-85fb-5e208ac659fb",
   "metadata": {},
   "outputs": [],
   "source": [
    "test3 = \"\"\"Although he also liked\n",
    "!\n",
    "The factorial\n",
    "\"\"\""
   ]
  },
  {
   "cell_type": "code",
   "execution_count": null,
   "id": "46ac3cf3-8ae2-4083-976f-eac2d28cd745",
   "metadata": {},
   "outputs": [],
   "source": [
    "sample_hockey_tweet = \"\"\"Thank you to the \n",
    "@Canes\n",
    " and all you amazing Caniacs that have been so supportive! You guys are some of the best fans in the NHL without a doubt! Really excited to start this new chapter in my career with the \n",
    "@DetroitRedWings\n",
    " !!\"\"\"\n",
    "res = client.completions.create(model=ft_model, prompt=sample_hockey_tweet + '\\n\\n###\\n\\n', max_tokens=1, temperature=0, logprobs=2)\n",
    "res.choices[0].text\n",
    "\n"
   ]
  }
 ],
 "metadata": {
  "kernelspec": {
   "display_name": "Python 3 (ipykernel)",
   "language": "python",
   "name": "python3"
  },
  "language_info": {
   "codemirror_mode": {
    "name": "ipython",
    "version": 3
   },
   "file_extension": ".py",
   "mimetype": "text/x-python",
   "name": "python",
   "nbconvert_exporter": "python",
   "pygments_lexer": "ipython3",
   "version": "3.11.11"
  }
 },
 "nbformat": 4,
 "nbformat_minor": 5
}
